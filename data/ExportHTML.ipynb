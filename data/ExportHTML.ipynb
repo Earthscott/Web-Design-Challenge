{
 "cells": [
  {
   "cell_type": "code",
   "execution_count": 1,
   "id": "66ccc833-4957-42ef-b9c7-b066b2d91fab",
   "metadata": {},
   "outputs": [],
   "source": [
    "import pandas as pd"
   ]
  },
  {
   "cell_type": "code",
   "execution_count": 11,
   "id": "a8fcef9e-ef17-46c6-a3c7-5c8a4ef55cf8",
   "metadata": {},
   "outputs": [],
   "source": [
    "df = pd.read_csv('results.csv', index_col='ID')\n",
    "table = df.to_html(bold_rows=False)\n",
    "outfile = 'datatable.html'\n",
    "with open(outfile, 'w', encoding='utf-8') as file1:\n",
    "    file1.write(table)"
   ]
  },
  {
   "cell_type": "code",
   "execution_count": null,
   "id": "53c2eb0f-e50e-4a35-bbd4-8315657e229b",
   "metadata": {},
   "outputs": [],
   "source": []
  }
 ],
 "metadata": {
  "kernelspec": {
   "display_name": "Python 3",
   "language": "python",
   "name": "python3"
  },
  "language_info": {
   "codemirror_mode": {
    "name": "ipython",
    "version": 3
   },
   "file_extension": ".py",
   "mimetype": "text/x-python",
   "name": "python",
   "nbconvert_exporter": "python",
   "pygments_lexer": "ipython3",
   "version": "3.8.10"
  }
 },
 "nbformat": 4,
 "nbformat_minor": 5
}
